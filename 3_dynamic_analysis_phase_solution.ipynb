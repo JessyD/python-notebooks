{
 "cells": [
  {
   "cell_type": "markdown",
   "metadata": {},
   "source": [
    "Now that we have corrected for motion and we have extracted the mean activity for each region over time, we can now do some interesting dynamic analysis. One of the aims of your thesis is to compare the results from the phase analysis to the analysis of sliding window approach. \n",
    "\n",
    "This papers ([paper 1](http://online.liebertpub.com/doi/abs/10.1089/brain.2011.0068) and [paper 2](http://www.sciencedirect.com/science/article/pii/S1053811916307881)) will give you a better idea of how both analysis method work and explain their differences.\n",
    "\n",
    "We will start by looking at the phase synchrony.\n"
   ]
  },
  {
   "cell_type": "markdown",
   "metadata": {},
   "source": [
    "# Phase Analysis"
   ]
  },
  {
   "cell_type": "code",
   "execution_count": null,
   "metadata": {
    "collapsed": true
   },
   "outputs": [],
   "source": [
    "# Import the required libraries\n",
    "from scipy.signal import hilbert\n",
    "import numpy as np\n",
    "import os"
   ]
  },
  {
   "cell_type": "markdown",
   "metadata": {},
   "source": [
    "## Hilbert Transform"
   ]
  },
  {
   "cell_type": "markdown",
   "metadata": {},
   "source": [
    "The first step of the Phase Analyis consits in doing the Hilbert Transform on the dataset. The Hilbert Transform can be used to transform real valued data into an analitical form, which we can use to explore the phase synchronisation. Take a look at [this](https://docs.scipy.org/doc/scipy-0.19.0/reference/generated/scipy.signal.hilbert.html) to see an implementation of the hilbert transform."
   ]
  },
  {
   "cell_type": "markdown",
   "metadata": {},
   "source": [
    "**Note:** It is good practice to always perform the hilbert transform in the demeaned data and to ignore the first and last time points (see this [paper]((http://online.liebertpub.com/doi/abs/10.1089/brain.2011.0068)) for an explantion). Luckly enough, due to the way our preprocessing is done if you load the filtered data the data is already demeaned."
   ]
  },
  {
   "cell_type": "code",
   "execution_count": null,
   "metadata": {
    "collapsed": true
   },
   "outputs": [],
   "source": [
    "# load the preprocessed extraced ROIs and calculate the Hilbert Transform\n",
    "extracted_rois_path = '/home/jdafflon/code/msc_project/patrycja/data_out/extract_rois/rois_timeseries.txt'\n",
    "extracted_rois = np.genfromtxt(extracted_rois_path, delimiter=',')"
   ]
  },
  {
   "cell_type": "code",
   "execution_count": null,
   "metadata": {
    "collapsed": true
   },
   "outputs": [],
   "source": [
    "# Perform Hilbert tranform and exclude the first and last 10\n",
    "# time points\n",
    "hiltrans = hilbert(extracted_rois)\n",
    "hiltrans = hiltrans[:, 10:-10]"
   ]
  },
  {
   "cell_type": "markdown",
   "metadata": {},
   "source": [
    "Reduce the effects of noise on the dataset by using a small sliding window approach. To do this define a function that performs a sliding window on your hilbert transformed data"
   ]
  },
  {
   "cell_type": "code",
   "execution_count": null,
   "metadata": {
    "collapsed": true
   },
   "outputs": [],
   "source": [
    "# Define the function using a sliding window of 5 time points\n",
    "def sliding_window(hilbert_data, window_size):\n",
    "    nregions = hilbert_data.shape[0]\n",
    "    ntpoints = hilbert_data.shape[1]\n",
    "    slided = np.zeros((nregions, ntpoints - window_size + 1), dtype=complex)\n",
    "    window = np.ones(int(window_size)) / float(window_size)\n",
    "    for roi in range(nregions):\n",
    "        slided[roi, :] = np.convolve(hilbert_data[roi, :],\n",
    "                                    window, 'valid')\n",
    "    return slided"
   ]
  },
  {
   "cell_type": "code",
   "execution_count": null,
   "metadata": {
    "collapsed": true
   },
   "outputs": [],
   "source": [
    "# Call your sliding window function\n",
    "window_size = 5\n",
    "slided_data = sliding_window(hiltrans, window_size)"
   ]
  },
  {
   "cell_type": "markdown",
   "metadata": {
    "collapsed": true
   },
   "source": [
    "## Synchrony and Metasbility"
   ]
  },
  {
   "cell_type": "markdown",
   "metadata": {},
   "source": [
    "The phenomena of synchronisation have been well established to describe the physics behind chaotic systems and non-linear dynamics. Recently, however, this particular measure has been used to assess activation and dynamic transitions over different brain regions.\n",
    "\n",
    "The phase synchrony describes how coherently the phase changes among different brain regions."
   ]
  },
  {
   "cell_type": "markdown",
   "metadata": {},
   "source": [
    "Synchrony is defined as:\n",
    "    $$ R(t)e^{i\\Phi(t)} = \\frac{1}{N}\\sum_{n=1}^{N} e^{i\\Phi_n(t)}$$"
   ]
  },
  {
   "cell_type": "markdown",
   "metadata": {},
   "source": [
    "Where N = the total number of regions being analysed. The level of synchrony between phase time-courses is described by R(t), in terms of how coherently phase changes over time. $\\Phi_n(t)$ represents the phase angle of a specific region.\n",
    "\n",
    "During fully synchronous behaviour, R(t) = 1 and 0 when phase across all phase time series is fully asynchronous."
   ]
  },
  {
   "cell_type": "markdown",
   "metadata": {},
   "source": [
    "To give you a feeling of what this mean, the animation below shows how the phase angle 3 toy regions (dots) change with time. The mean phase ($\\frac{1}{N}\\sum^{i\\Phi_n}$) is represented by the arrow in the animation. As you can see, when the regions are synchronised the phase synchrony is higher when compared when they are not synchronised. \n"
   ]
  },
  {
   "cell_type": "markdown",
   "metadata": {},
   "source": [
    "<img src=\"images/animation.gif\" width=\"400\">"
   ]
  },
  {
   "cell_type": "markdown",
   "metadata": {},
   "source": [
    "The formula above allows you to compute the mean phase at 2 levels:\n",
    "    * Global: Where all regions are taken into account\n",
    "    * Pairwise: The parameters of interest are calculated for each pair or regions"
   ]
  },
  {
   "cell_type": "markdown",
   "metadata": {},
   "source": [
    "### Synchrony"
   ]
  },
  {
   "cell_type": "markdown",
   "metadata": {},
   "source": [
    "Use the formula above to calculate both pairwise as well as global synchrony. \n",
    "\n",
    "**Note**: remember that on the pairwise analyse you are only comparing two regions (N=2)\n",
    "\n",
    "**Question**: How can you extract the phase from the hilbert transform?  \n"
   ]
  },
  {
   "cell_type": "code",
   "execution_count": null,
   "metadata": {
    "collapsed": true
   },
   "outputs": [],
   "source": [
    "# Calculate the pairwise as well as the global synchrony for your extracted ROIs."
   ]
  },
  {
   "cell_type": "markdown",
   "metadata": {},
   "source": [
    "### Metastability"
   ]
  },
  {
   "cell_type": "markdown",
   "metadata": {},
   "source": [
    "Metastability is defined as the standard deviation of synchrony."
   ]
  },
  {
   "cell_type": "code",
   "execution_count": null,
   "metadata": {
    "collapsed": true
   },
   "outputs": [],
   "source": [
    "#Using the results from Synchrony calculate the global and the pairwise metastability\n"
   ]
  },
  {
   "cell_type": "code",
   "execution_count": null,
   "metadata": {
    "collapsed": true
   },
   "outputs": [],
   "source": []
  }
 ],
 "metadata": {
  "kernelspec": {
   "display_name": "Python 2",
   "language": "python",
   "name": "python2"
  },
  "language_info": {
   "codemirror_mode": {
    "name": "ipython",
    "version": 2
   },
   "file_extension": ".py",
   "mimetype": "text/x-python",
   "name": "python",
   "nbconvert_exporter": "python",
   "pygments_lexer": "ipython2",
   "version": "2.7.13"
  }
 },
 "nbformat": 4,
 "nbformat_minor": 2
}
