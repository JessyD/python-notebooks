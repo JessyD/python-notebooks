{
 "cells": [
  {
   "cell_type": "markdown",
   "metadata": {},
   "source": [
    "# Extract ROI"
   ]
  },
  {
   "cell_type": "markdown",
   "metadata": {},
   "source": [
    "The goal of the notebook is to extract the regions of interest (ROIs) of a resting state image using a segmentation image. This notebook only deals with a subject but can easily be extended to multiple subjects."
   ]
  },
  {
   "cell_type": "markdown",
   "metadata": {},
   "source": [
    "## Working with real-world data\n"
   ]
  },
  {
   "cell_type": "markdown",
   "metadata": {},
   "source": [
    "### Dowloading the Dataset"
   ]
  },
  {
   "cell_type": "markdown",
   "metadata": {},
   "source": [
    "The first step is to download the dataset. Which you can find on this [website](https://db.humanconnectome.org/app/template/Login.vm;jsessionid=F82708079FFD7C01858D47841C617389). You will need to register yourself as an user to get acess to the data, but it should be straightforward. Once you have logged in, choose the project `WU-Minn HCP Data - 1200 Subjects` and dowload the dataset for one subject. \n",
    "\n",
    "You will need to download the anatomical data and the resting state data separetly.\n",
    "\n"
   ]
  },
  {
   "cell_type": "markdown",
   "metadata": {},
   "source": [
    "### Exploring and Visualising your Dataset"
   ]
  },
  {
   "cell_type": "markdown",
   "metadata": {},
   "source": [
    "Hopefully, fsl installation runned smoothly and you can now use it to visualise brain images. \n",
    "\n",
    "**Exercise:** Try to get a fealing of how the anatomical and the resting state image look like. They are called  `T1w_restore.nii.gz` and `rfMRI_REST1_LR.nii.gz`/`rfMRI_REST1_RL.nii.gz`\n",
    "\n",
    "Note: To use fsl you will need to call it from the terminal. \n"
   ]
  },
  {
   "cell_type": "markdown",
   "metadata": {
    "collapsed": true
   },
   "source": [
    "\n"
   ]
  },
  {
   "cell_type": "markdown",
   "metadata": {},
   "source": [
    "Usually, when you have a new image you want to check if it is in the standard template coordinates or native space. In case your image is on native space you will need to register it to MNI. A simple way of doing that is by visualising the image using `fslview` and overlaying a template that is already on MNI space (e.g. `MNI152_T1_2mm.nii.gz`). If fsl complains that means that the image is not on the standard space. "
   ]
  },
  {
   "cell_type": "markdown",
   "metadata": {},
   "source": [
    "**Question:** Are both anatomical and functional image in the standart space?"
   ]
  },
  {
   "cell_type": "markdown",
   "metadata": {},
   "source": [
    "If you are completly lost and have no idea of what I mean by MNI, you can take a look at this slides:\n",
    "https://fsl.fmrib.ox.ac.uk/fslcourse/lectures/reg.pdf"
   ]
  },
  {
   "cell_type": "markdown",
   "metadata": {},
   "source": [
    "### Segmentation Image"
   ]
  },
  {
   "cell_type": "markdown",
   "metadata": {},
   "source": [
    "Together with this notebook you should have received a segmentation image (`seg_aparc_82roi_2mm.nii.gz`) and a text file called `Lookuptable`.\n",
    "\n",
    "The segmenation image is a labeled atlas where each region has been labeled with a specific intensity. "
   ]
  },
  {
   "cell_type": "markdown",
   "metadata": {},
   "source": [
    "**Question:** Visualise the segmentation image using `fslview`. Where on the gui can you see the different intensities for each region?"
   ]
  },
  {
   "cell_type": "markdown",
   "metadata": {},
   "source": [
    "The `Lookuptable` maps the different intensities used on the segmentation image to their corresponding label. "
   ]
  },
  {
   "cell_type": "markdown",
   "metadata": {},
   "source": [
    "Now that we are a bit more familiar with the dataset and the segmentation images, we can extract the regions of interest from the resting state image."
   ]
  },
  {
   "cell_type": "markdown",
   "metadata": {},
   "source": [
    "## Extract ROIs"
   ]
  },
  {
   "cell_type": "markdown",
   "metadata": {},
   "source": [
    "First we need to load the required Python libraries. Libraries are like extensions to the base python that add functionality or help to make tasks more convenient to do."
   ]
  },
  {
   "cell_type": "code",
   "execution_count": 2,
   "metadata": {},
   "outputs": [],
   "source": [
    "import os\n",
    "import numpy as np\n",
    "import nibabel as nib\n",
    "import matplotlib.pyplot as plt\n",
    "from nilearn import plotting\n",
    "%matplotlib inline  \n"
   ]
  },
  {
   "cell_type": "markdown",
   "metadata": {},
   "source": [
    "Define paths to the data, segmentation image and where the result will be saved"
   ]
  },
  {
   "cell_type": "code",
   "execution_count": 3,
   "metadata": {
    "collapsed": true
   },
   "outputs": [],
   "source": [
    "base_path_data = os.path.join(os.path.sep, 'group', 'dynamics', 'HCP')\n",
    "results_path = os.path.join(os.path.sep, 'home', 'jdafflon', 'code', 'msc_project', 'patrycja', 'data_out', 'extract_rois')\n",
    "input_path = os.path.join(os.path.sep, 'group', 'dynamics', 'scz_dynamics', 'ucla-la5', 'data_in', 'voi_extraction')\n",
    "\n",
    "resting_state_image_path = os.path.join(base_path_data, '100307', 'MNINonLinear', 'Results', 'rfMRI_REST2_LR', 'rfMRI_REST2_LR.nii.gz')\n",
    "segmentation_image_path = os.path.join( input_path, 'seg_aparc_82roi_2mm.nii.gz')\n",
    "lookuptable_file_path = os.path.join(input_path,'LookupTable')\n"
   ]
  },
  {
   "cell_type": "markdown",
   "metadata": {},
   "source": [
    "Load the subjects resting state image, the segmentation image and the lookuptable using nibabel. (This might take a while)"
   ]
  },
  {
   "cell_type": "code",
   "execution_count": 4,
   "metadata": {},
   "outputs": [],
   "source": [
    "resting_state_image = nib.load(resting_state_image_path)\n",
    "resting_state_image_data = resting_state_image.get_data()"
   ]
  },
  {
   "cell_type": "code",
   "execution_count": 5,
   "metadata": {},
   "outputs": [],
   "source": [
    "segmentation_image = nib.load(segmentation_image_path)\n",
    "segmentation_image_data = segmentation_image.get_data()"
   ]
  },
  {
   "cell_type": "code",
   "execution_count": 6,
   "metadata": {
    "collapsed": true
   },
   "outputs": [],
   "source": [
    "lookuptable = np.genfromtxt(lookuptable_file_path,\n",
    "                           names='numbers, regions, intensity',\n",
    "                           dtype=None,\n",
    "                           delimiter=',')"
   ]
  },
  {
   "cell_type": "markdown",
   "metadata": {},
   "source": [
    "### Play a bit around with the images you have just loaded using nibabel."
   ]
  },
  {
   "cell_type": "markdown",
   "metadata": {},
   "source": [
    "For every label get the corresponding activity. Remember that we want to extract the label for each brain region for all time points."
   ]
  },
  {
   "cell_type": "code",
   "execution_count": 7,
   "metadata": {},
   "outputs": [
    {
     "name": "stdout",
     "output_type": "stream",
     "text": [
      "<class 'nibabel.nifti1.Nifti1Header'> object, endian='<'\n",
      "sizeof_hdr      : 348\n",
      "data_type       : \n",
      "db_name         : \n",
      "extents         : 0\n",
      "session_error   : 0\n",
      "regular         : r\n",
      "dim_info        : 0\n",
      "dim             : [   4   91  109   91 1200    1    1    1]\n",
      "intent_p1       : 0.0\n",
      "intent_p2       : 0.0\n",
      "intent_p3       : 0.0\n",
      "intent_code     : none\n",
      "datatype        : float32\n",
      "bitpix          : 32\n",
      "slice_start     : 0\n",
      "pixdim          : [-1.          2.          2.          2.          0.72000003  0.          0.\n",
      "  0.        ]\n",
      "vox_offset      : 0.0\n",
      "scl_slope       : nan\n",
      "scl_inter       : nan\n",
      "slice_end       : 0\n",
      "slice_code      : unknown\n",
      "xyzt_units      : 10\n",
      "cal_max         : 0.0\n",
      "cal_min         : 0.0\n",
      "slice_duration  : 0.0\n",
      "toffset         : 0.0\n",
      "glmax           : 0\n",
      "glmin           : 0\n",
      "descrip         : FSL5.0\n",
      "aux_file        : \n",
      "qform_code      : mni\n",
      "sform_code      : mni\n",
      "quatern_b       : 0.0\n",
      "quatern_c       : 1.0\n",
      "quatern_d       : 0.0\n",
      "qoffset_x       : 90.0\n",
      "qoffset_y       : -126.0\n",
      "qoffset_z       : -72.0\n",
      "srow_x          : [ -2.   0.   0.  90.]\n",
      "srow_y          : [   0.    2.    0. -126.]\n",
      "srow_z          : [  0.   0.   2. -72.]\n",
      "intent_name     : \n",
      "magic           : n+1\n"
     ]
    }
   ],
   "source": [
    " # How can you visualise the resting state image header? \n",
    " resting_header = resting_state_image.header\n",
    "print(resting_header)"
   ]
  },
  {
   "cell_type": "code",
   "execution_count": 8,
   "metadata": {
    "collapsed": true
   },
   "outputs": [],
   "source": [
    "# How can you get the dimensions of the image? What does each dimension mean?\n",
    "ntpoints = resting_state_image_data.shape[3]"
   ]
  },
  {
   "cell_type": "markdown",
   "metadata": {},
   "source": [
    "Extract the time series for a specific region at every time point using the segmentation image and the lookuptable. For each time point you should save the mean activity of the region of interest."
   ]
  },
  {
   "cell_type": "code",
   "execution_count": 9,
   "metadata": {},
   "outputs": [],
   "source": [
    "mask = np.zeros((resting_state_image.shape[0], resting_state_image.shape[1], resting_state_image.shape[2]))\n",
    "avg = np.zeros((lookuptable['intensity'].shape[0], ntpoints))\n",
    "for region in range(len(lookuptable)):\n",
    "    mask_1region = np.zeros((resting_state_image.shape[0], resting_state_image.shape[1], resting_state_image.shape[2]))\n",
    "    intensity = lookuptable['intensity'][region]\n",
    "    boolean_region = np.isclose(segmentation_image_data, intensity, atol=.0)\n",
    "    boolean_mask = np.where(boolean_region)\n",
    "    mask[boolean_region] = 1\n",
    "    mask_1region[boolean_region] = 1\n",
    "    for t in range(ntpoints):\n",
    "        data = resting_state_image_data[:, : ,:, t]\n",
    "        data = data[boolean_mask[0], boolean_mask[1], boolean_mask[2]]\n",
    "        avg[region, t] = data.mean()"
   ]
  },
  {
   "cell_type": "code",
   "execution_count": 11,
   "metadata": {},
   "outputs": [
    {
     "name": "stdout",
     "output_type": "stream",
     "text": [
      "[[ 11310.91503906  11209.3203125   11194.78125    ...,  11202.02246094\n",
      "   11100.91894531  11170.21875   ]\n",
      " [ 10992.40234375  10891.60742188  10811.44433594 ...,  10763.4375\n",
      "   10684.12304688  10808.70996094]\n",
      " [  9549.65917969   9457.953125     9570.57226562 ...,   9639.08496094\n",
      "    9642.49316406   9656.39453125]\n",
      " ..., \n",
      " [  7247.21435547   7217.98144531   7121.99023438 ...,   7109.25585938\n",
      "    7136.71826172   7073.19433594]\n",
      " [ 11232.71386719  11177.27636719  11197.31054688 ...,  11321.66113281\n",
      "   11303.51757812  11225.36816406]\n",
      " [ 12250.56347656  12194.83886719  12098.86230469 ...,  12256.10351562\n",
      "   12257.29785156  12266.98535156]]\n"
     ]
    },
    {
     "data": {
      "text/plain": [
       "(82, 1200)"
      ]
     },
     "execution_count": 11,
     "metadata": {},
     "output_type": "execute_result"
    }
   ],
   "source": [
    "print(avg)\n",
    "avg.shape"
   ]
  },
  {
   "cell_type": "markdown",
   "metadata": {},
   "source": [
    "Save the results into a text file"
   ]
  },
  {
   "cell_type": "code",
   "execution_count": 44,
   "metadata": {},
   "outputs": [],
   "source": [
    "np.savetxt(os.path.join(results_path, 'rois_timeseries.txt'), avg, delimiter='', fmt='%5e')"
   ]
  },
  {
   "cell_type": "markdown",
   "metadata": {},
   "source": [
    "Just as an exercise let's visualise the matrix(mask) here.\n",
    "\n",
    "**Note:** Make sure you have install nilearn in your environment."
   ]
  },
  {
   "cell_type": "code",
   "execution_count": 39,
   "metadata": {},
   "outputs": [
    {
     "data": {
      "image/png": "[encoded data removed]",
      "text/plain": [
       "<matplotlib.figure.Figure at 0x7fcbf34cd450>"
      ]
     },
     "metadata": {},
     "output_type": "display_data"
    }
   ],
   "source": [
    "# create a nifti image for the mask\n",
    "affine = resting_state_image.affine\n",
    "mask_img = nib.Nifti1Image(mask, affine)\n",
    "plotting.plot_anat(mask_img, draw_cross=False);"
   ]
  },
  {
   "cell_type": "markdown",
   "metadata": {},
   "source": [
    "**Question:**Why does the mask look identical to the segmentation mask we used? How can we visualise the mask used only for region?? Folowing the above code which region would this be?"
   ]
  },
  {
   "cell_type": "markdown",
   "metadata": {},
   "source": [
    "Lets visualise the connectivity matrix for one time point"
   ]
  },
  {
   "cell_type": "code",
   "execution_count": 40,
   "metadata": {},
   "outputs": [
    {
     "data": {
      "image/png": "[encoded data removed]",
      "text/plain": [
       "<matplotlib.figure.Figure at 0x7fcbf2d3a8d0>"
      ]
     },
     "metadata": {},
     "output_type": "display_data"
    }
   ],
   "source": [
    "# The cut coordinates correspond to the second colomn of coordinats in fslview\n",
    "mask_1region_img = nib.Nifti1Image(mask_1region, affine)\n",
    "plotting.plot_roi(mask_1region_img, cut_coords=[-42,-6,2], draw_cross=False);"
   ]
  },
  {
   "cell_type": "code",
   "execution_count": null,
   "metadata": {
    "collapsed": true
   },
   "outputs": [],
   "source": []
  }
 ],
 "metadata": {
  "kernelspec": {
   "display_name": "Python 2",
   "language": "python",
   "name": "python2"
  },
  "language_info": {
   "codemirror_mode": {
    "name": "ipython",
    "version": 2
   },
   "file_extension": ".py",
   "mimetype": "text/x-python",
   "name": "python",
   "nbconvert_exporter": "python",
   "pygments_lexer": "ipython2",
   "version": "2.7.13"
  }
 },
 "nbformat": 4,
 "nbformat_minor": 2
}
